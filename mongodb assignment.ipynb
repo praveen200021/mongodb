{
  "cells": [
    {
      "cell_type": "markdown",
      "id": "c5b63ee2",
      "metadata": {
        "id": "c5b63ee2"
      },
      "source": [
        "# MongoDB Assignment - Theoretical Questions\n",
        "\n",
        "1. **Key differences between SQL and NoSQL databases**  \n",
        "SQL databases store data in tables with rows and columns, while NoSQL databases like MongoDB store data in collections with documents that use a flexible JSON-like structure. SQL requires a fixed schema, whereas MongoDB allows dynamic schemas. SQL typically scales vertically by increasing server capacity, but MongoDB supports horizontal scaling through sharding. SQL offers strong ACID transactions by default, while MongoDB is more flexible and supports eventual consistency with optional ACID transactions.\n",
        "\n",
        "2. **What makes MongoDB a good choice for modern applications**  \n",
        "MongoDB is ideal for modern applications because it offers a flexible schema, high scalability, rich queries, built-in replication, and native JSON support, making it easier to handle dynamic and large-scale data.\n",
        "\n",
        "3. **Concept of collections in MongoDB**  \n",
        "A collection in MongoDB is a container for documents, similar to a table in SQL, but without a fixed schema, allowing different documents to have different structures.\n",
        "\n",
        "4. **High availability using replication**  \n",
        "MongoDB ensures high availability through replica sets, which have one primary node that handles writes and multiple secondary nodes that replicate data. If the primary fails, an automatic election promotes a secondary to primary.\n",
        "\n",
        "5. **Benefits of MongoDB Atlas**  \n",
        "MongoDB Atlas is a fully managed cloud service offering automated scaling, backups, monitoring, global distribution, and built-in security.\n",
        "\n",
        "6. **Role of indexes in MongoDB**  \n",
        "Indexes improve query performance by reducing the number of scanned documents. They can be single-field, compound, text, or geospatial. Without indexes, MongoDB must scan all documents to find results.\n",
        "\n",
        "7. **Stages of aggregation pipeline**  \n",
        "The MongoDB aggregation pipeline processes data through stages such as `$match` for filtering, `$group` for grouping and aggregations, `$project` for reshaping documents, `$sort` for sorting, `$limit` and `$skip` for pagination, and `$lookup` for joining collections.\n",
        "\n",
        "8. **Sharding vs replication**  \n",
        "Sharding distributes data across multiple servers to handle large datasets, improving scalability. Replication creates multiple copies of data for availability and fault tolerance.\n",
        "\n",
        "9. **What is PyMongo**  \n",
        "PyMongo is the official Python driver for MongoDB, enabling CRUD operations, aggregations, and administrative tasks from Python.\n",
        "\n",
        "10. **ACID properties in MongoDB transactions**  \n",
        "Atomicity ensures all operations complete or none do. Consistency ensures data rules are maintained. Isolation ensures concurrent transactions don’t interfere. Durability ensures committed data remains permanent even after failures.\n",
        "\n",
        "11. **Purpose of explain()**  \n",
        "The `explain()` function reveals how MongoDB will execute a query, including index usage and execution plan, helping optimize performance.\n",
        "\n",
        "12. **Schema validation**  \n",
        "MongoDB supports JSON Schema validation to enforce structure and rules for documents, either blocking or warning when invalid data is inserted.\n",
        "\n",
        "13. **Primary vs secondary node**  \n",
        "A primary node handles all writes and replicates data to secondaries, which are read-only unless configured for reads.\n",
        "\n",
        "14. **Security mechanisms in MongoDB**  \n",
        "MongoDB offers authentication, role-based access control, TLS/SSL encryption, field-level encryption, IP whitelisting, and audit logging.\n",
        "\n",
        "15. **Embedded documents**  \n",
        "Embedded documents store related data inside a single document and are best used when related data is frequently accessed together.\n",
        "\n",
        "16. **Purpose of $lookup**  \n",
        "The `$lookup` stage joins documents from another collection, similar to a left join in SQL.\n",
        "\n",
        "17. **Common use cases of MongoDB**  \n",
        "MongoDB is used for content management, IoT applications, e-commerce catalogs, real-time analytics, and mobile or gaming apps.\n",
        "\n",
        "18. **Advantages for horizontal scaling**  \n",
        "MongoDB can horizontally scale by sharding, allowing large datasets to be distributed across multiple servers without relying on expensive vertical scaling.\n",
        "\n",
        "19. **MongoDB vs SQL transactions**  \n",
        "MongoDB transactions work with documents and can span multiple collections and shards, while SQL transactions work with rows and are ACID by default.\n",
        "\n",
        "20. **Capped vs regular collections**  \n",
        "Capped collections have a fixed size and automatically overwrite the oldest data when full, while regular collections grow as needed and require explicit deletions.\n",
        "\n",
        "21. **Purpose of $match**  \n",
        "The `$match` stage filters documents early in the aggregation pipeline to improve performance and reduce unnecessary processing.\n",
        "\n",
        "22. **Securing MongoDB**  \n",
        "Secure MongoDB by enabling authentication, using role-based permissions, restricting network access, enabling encryption, and applying audit logs.\n",
        "\n",
        "23. **WiredTiger storage engine**  \n",
        "WiredTiger is MongoDB’s default storage engine, providing document-level locking, compression, and improved concurrency for better performance.\n"
      ]
    },
    {
      "cell_type": "code",
      "source": [
        "\n",
        "from pymongo import MongoClient\n",
        "import pandas as pd\n",
        "from google.colab import files\n",
        "\n",
        "# Upload CSV\n",
        "uploaded = files.upload()"
      ],
      "metadata": {
        "id": "sxn9BlmsO7fb"
      },
      "id": "sxn9BlmsO7fb",
      "execution_count": null,
      "outputs": []
    },
    {
      "cell_type": "markdown",
      "id": "9d6c1be5",
      "metadata": {
        "id": "9d6c1be5"
      },
      "source": [
        "## 1. Load Superstore dataset into MongoDB"
      ]
    },
    {
      "cell_type": "code",
      "execution_count": null,
      "id": "e59918ee",
      "metadata": {
        "id": "e59918ee"
      },
      "outputs": [],
      "source": [
        "# 1️⃣ Install PyMongo\n",
        "!pip install pymongo\n",
        "\n",
        "# 2️⃣ Imports\n",
        "from pymongo import MongoClient, errors\n",
        "import urllib.parse  # For password encoding\n",
        "\n",
        "# 3️⃣ User inputs\n",
        "username = \"\"   # From Atlas Database Access\n",
        "password = \"your_password_here\"   # From Atlas Database Access\n",
        "cluster_url = \"cluster0.xxxxx.mongodb.net\"  # From Atlas cluster connect string\n",
        "\n",
        "# 4️⃣ Encode password for URL safety\n",
        "encoded_password = urllib.parse.quote(password)\n",
        "\n",
        "# 5️⃣ Build URI (with authSource=admin)\n",
        "uri = f\"mongodb+srv://{username}:{encoded_password}@{cluster_url}/?retryWrites=true&w=majority&authSource=admin\"\n",
        "\n",
        "# 6️⃣ Try connecting\n",
        "try:\n",
        "    client = MongoClient(uri, serverSelectionTimeoutMS=5000)\n",
        "    print(\"Pinging MongoDB server...\")\n",
        "    print(client.admin.command(\"ping\"))\n",
        "    print(\"✅ Connected to MongoDB Atlas!\")\n",
        "except errors.OperationFailure as err:\n",
        "    print(\"❌ Authentication failed! Check username, password, and roles in Atlas.\")\n",
        "    print(\"Detailed error:\", err)\n",
        "except errors.ServerSelectionTimeoutError as err:\n",
        "    print(\"❌ Cannot reach MongoDB Atlas! Check your IP whitelist in Atlas.\")\n",
        "    print(\"Detailed error:\", err)\n"
      ]
    },
    {
      "cell_type": "markdown",
      "id": "f75af591",
      "metadata": {
        "id": "f75af591"
      },
      "source": [
        "## 2. Retrieve all documents"
      ]
    },
    {
      "cell_type": "code",
      "execution_count": null,
      "id": "4b475b29",
      "metadata": {
        "id": "4b475b29"
      },
      "outputs": [],
      "source": [
        "for doc in orders.find():\n",
        "    print(doc)\n"
      ]
    },
    {
      "cell_type": "markdown",
      "id": "e5a24eb8",
      "metadata": {
        "id": "e5a24eb8"
      },
      "source": [
        "## 3. Count total documents"
      ]
    },
    {
      "cell_type": "code",
      "execution_count": null,
      "id": "43f89661",
      "metadata": {
        "id": "43f89661"
      },
      "outputs": [],
      "source": [
        "print(\"Total orders:\", orders.count_documents({}))\n"
      ]
    },
    {
      "cell_type": "markdown",
      "id": "32f50fcd",
      "metadata": {
        "id": "32f50fcd"
      },
      "source": [
        "## 4. Orders from 'West' region"
      ]
    },
    {
      "cell_type": "code",
      "execution_count": null,
      "id": "14747993",
      "metadata": {
        "id": "14747993"
      },
      "outputs": [],
      "source": [
        "for doc in orders.find({\"Region\": \"West\"}):\n",
        "    print(doc)\n"
      ]
    },
    {
      "cell_type": "markdown",
      "id": "22b037ff",
      "metadata": {
        "id": "22b037ff"
      },
      "source": [
        "## 5. Orders where Sales > 500"
      ]
    },
    {
      "cell_type": "code",
      "execution_count": null,
      "id": "ff4c1789",
      "metadata": {
        "id": "ff4c1789"
      },
      "outputs": [],
      "source": [
        "for doc in orders.find({\"Sales\": {\"$gt\": 500}}):\n",
        "    print(doc)\n"
      ]
    },
    {
      "cell_type": "markdown",
      "id": "e72bf552",
      "metadata": {
        "id": "e72bf552"
      },
      "source": [
        "## 6. Top 3 orders with highest Profit"
      ]
    },
    {
      "cell_type": "code",
      "execution_count": null,
      "id": "0808d8d6",
      "metadata": {
        "id": "0808d8d6"
      },
      "outputs": [],
      "source": [
        "for doc in orders.find().sort(\"Profit\", -1).limit(3):\n",
        "    print(doc)\n"
      ]
    },
    {
      "cell_type": "markdown",
      "id": "efee4d2a",
      "metadata": {
        "id": "efee4d2a"
      },
      "source": [
        "## 7. Update Ship Mode"
      ]
    },
    {
      "cell_type": "code",
      "execution_count": null,
      "id": "0400d7a7",
      "metadata": {
        "id": "0400d7a7"
      },
      "outputs": [],
      "source": [
        "orders.update_many({\"Ship Mode\": \"First Class\"}, {\"$set\": {\"Ship Mode\": \"Premium Class\"}})\n",
        "print(\"Ship Mode updated.\")\n"
      ]
    },
    {
      "cell_type": "markdown",
      "id": "0abe9b81",
      "metadata": {
        "id": "0abe9b81"
      },
      "source": [
        "## 8. Delete orders where Sales < 50"
      ]
    },
    {
      "cell_type": "code",
      "execution_count": null,
      "id": "0429f0b9",
      "metadata": {
        "id": "0429f0b9"
      },
      "outputs": [],
      "source": [
        "orders.delete_many({\"Sales\": {\"$lt\": 50}})\n",
        "print(\"Orders deleted where Sales < 50.\")\n"
      ]
    },
    {
      "cell_type": "markdown",
      "id": "4546a396",
      "metadata": {
        "id": "4546a396"
      },
      "source": [
        "## 9. Group orders by Region & total sales"
      ]
    },
    {
      "cell_type": "code",
      "execution_count": null,
      "id": "d8396551",
      "metadata": {
        "id": "d8396551"
      },
      "outputs": [],
      "source": [
        "pipeline = [\n",
        "    {\"$group\": {\"_id\": \"$Region\", \"TotalSales\": {\"$sum\": \"$Sales\"}}}\n",
        "]\n",
        "for doc in orders.aggregate(pipeline):\n",
        "    print(doc)\n"
      ]
    },
    {
      "cell_type": "markdown",
      "id": "bdb3e62d",
      "metadata": {
        "id": "bdb3e62d"
      },
      "source": [
        "## 10. Distinct Ship Modes"
      ]
    },
    {
      "cell_type": "code",
      "execution_count": null,
      "id": "cff43ecb",
      "metadata": {
        "id": "cff43ecb"
      },
      "outputs": [],
      "source": [
        "print(orders.distinct(\"Ship Mode\"))\n"
      ]
    },
    {
      "cell_type": "markdown",
      "id": "8949f8a5",
      "metadata": {
        "id": "8949f8a5"
      },
      "source": [
        "## 11. Count orders per category"
      ]
    },
    {
      "cell_type": "code",
      "execution_count": null,
      "id": "4ded492d",
      "metadata": {
        "id": "4ded492d"
      },
      "outputs": [],
      "source": [
        "pipeline = [\n",
        "    {\"$group\": {\"_id\": \"$Category\", \"Count\": {\"$sum\": 1}}}\n",
        "]\n",
        "for doc in orders.aggregate(pipeline):\n",
        "    print(doc)\n"
      ]
    }
  ],
  "metadata": {
    "colab": {
      "provenance": []
    },
    "language_info": {
      "name": "python"
    },
    "kernelspec": {
      "name": "python3",
      "display_name": "Python 3"
    }
  },
  "nbformat": 4,
  "nbformat_minor": 5
}